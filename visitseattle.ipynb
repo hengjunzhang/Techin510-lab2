{
 "cells": [
  {
   "cell_type": "code",
   "execution_count": 2,
   "metadata": {},
   "outputs": [
    {
     "name": "stderr",
     "output_type": "stream",
     "text": [
      "/Users/hengjunzhang/Library/Python/3.9/lib/python/site-packages/urllib3/__init__.py:34: NotOpenSSLWarning: urllib3 v2 only supports OpenSSL 1.1.1+, currently the 'ssl' module is compiled with 'LibreSSL 2.8.3'. See: https://github.com/urllib3/urllib3/issues/3020\n",
      "  warnings.warn(\n"
     ]
    }
   ],
   "source": [
    "import requests"
   ]
  },
  {
   "cell_type": "code",
   "execution_count": 4,
   "metadata": {},
   "outputs": [],
   "source": [
    "url = \"https://visitseattle.org/events/page/1\"\n",
    "#Create-POST\n",
    "#Read-GET\n",
    "#Update-PUT\n",
    "#Delete-DELETE\n",
    "res = requests.get(url)"
   ]
  },
  {
   "cell_type": "code",
   "execution_count": 5,
   "metadata": {},
   "outputs": [
    {
     "data": {
      "text/plain": [
       "200"
      ]
     },
     "execution_count": 5,
     "metadata": {},
     "output_type": "execute_result"
    }
   ],
   "source": [
    "res.status_code\n"
   ]
  },
  {
   "cell_type": "code",
   "execution_count": 8,
   "metadata": {},
   "outputs": [
    {
     "data": {
      "text/plain": [
       "181700"
      ]
     },
     "execution_count": 8,
     "metadata": {},
     "output_type": "execute_result"
    }
   ],
   "source": [
    "res.text\n",
    "open(\"SeattleEvent.html\",'w').write(res.text)"
   ]
  },
  {
   "cell_type": "code",
   "execution_count": 10,
   "metadata": {},
   "outputs": [],
   "source": [
    "import requests\n",
    "from bs4 import BeautifulSoup"
   ]
  },
  {
   "cell_type": "code",
   "execution_count": 11,
   "metadata": {},
   "outputs": [],
   "source": [
    "soup = BeautifulSoup(res.text, \"html.parser\")"
   ]
  },
  {
   "cell_type": "code",
   "execution_count": 20,
   "metadata": {},
   "outputs": [
    {
     "name": "stdout",
     "output_type": "stream",
     "text": [
      "[<a href=\"https://visitseattle.org/events/glen-teriyaki/\" title=\"Glen Teriyaki\">Glen Teriyaki </a>, <a href=\"https://visitseattle.org/events/greta-matassa-sextet/\" title=\"Greta Matassa Sextet\">Greta Matassa Sextet </a>, <a href=\"https://visitseattle.org/events/holding-absence/\" title=\"Holding Absence\">Holding Absence </a>, <a href=\"https://visitseattle.org/events/nellie-mckay/\" title=\"Nellie McKay\">Nellie McKay </a>, <a href=\"https://visitseattle.org/events/amber-liu/\" title=\"Amber Liu\">Amber Liu </a>, <a href=\"https://visitseattle.org/events/disability-justice/\" title=\"Disability Justice\">Disability Justice </a>, <a href=\"https://visitseattle.org/events/hughes-bros-presents/\" title=\"Hughes Bros Presents\">Hughes Bros Presents </a>, <a href=\"https://visitseattle.org/events/sarya-wu/\" title=\"sarya wu\">sarya wu </a>, <a href=\"https://visitseattle.org/events/the-sweet-lillies/\" title=\"The Sweet Lillies\">The Sweet Lillies </a>]\n"
     ]
    }
   ],
   "source": [
    "selector = \"div.search-result-preview > div > h3 > a\"\n",
    "a_tags = soup.select(selector)\n",
    "print(a_tags)"
   ]
  },
  {
   "cell_type": "code",
   "execution_count": 21,
   "metadata": {},
   "outputs": [
    {
     "data": {
      "text/plain": [
       "['https://visitseattle.org/events/glen-teriyaki/',\n",
       " 'https://visitseattle.org/events/greta-matassa-sextet/',\n",
       " 'https://visitseattle.org/events/holding-absence/',\n",
       " 'https://visitseattle.org/events/nellie-mckay/',\n",
       " 'https://visitseattle.org/events/amber-liu/',\n",
       " 'https://visitseattle.org/events/disability-justice/',\n",
       " 'https://visitseattle.org/events/hughes-bros-presents/',\n",
       " 'https://visitseattle.org/events/sarya-wu/',\n",
       " 'https://visitseattle.org/events/the-sweet-lillies/']"
      ]
     },
     "execution_count": 21,
     "metadata": {},
     "output_type": "execute_result"
    }
   ],
   "source": [
    "[x['href'] for x in a_tags]"
   ]
  },
  {
   "cell_type": "code",
   "execution_count": 27,
   "metadata": {},
   "outputs": [],
   "source": [
    "import time\n",
    "for x in [1,2,3,4]:\n",
    "    time.sleep(1)"
   ]
  }
 ],
 "metadata": {
  "kernelspec": {
   "display_name": "Python 3",
   "language": "python",
   "name": "python3"
  },
  "language_info": {
   "codemirror_mode": {
    "name": "ipython",
    "version": 3
   },
   "file_extension": ".py",
   "mimetype": "text/x-python",
   "name": "python",
   "nbconvert_exporter": "python",
   "pygments_lexer": "ipython3",
   "version": "3.9.6"
  }
 },
 "nbformat": 4,
 "nbformat_minor": 2
}
